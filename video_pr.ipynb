{
 "cells": [
  {
   "cell_type": "code",
   "execution_count": null,
   "id": "cbda2300",
   "metadata": {},
   "outputs": [],
   "source": [
    "import accessvis"
   ]
  },
  {
   "cell_type": "code",
   "execution_count": null,
   "id": "a647d9f2",
   "metadata": {},
   "outputs": [],
   "source": [
    "import numpy as np\n",
    "import numpy.ma as ma\n",
    "import matplotlib.pyplot as plt\n",
    "import os\n",
    "import pandas as pd\n",
    "import os\n",
    "import xarray as xr\n",
    "import lavavu\n",
    "\n",
    "from tqdm import tqdm\n",
    "from scipy.ndimage import gaussian_filter"
   ]
  },
  {
   "cell_type": "markdown",
   "id": "2e949add",
   "metadata": {},
   "source": [
    "path=\"/g/data/fs38/publications/CMIP6/CMIP/CSIRO/ACCESS-ESM1-5/historical/r1i1p1f1/3hr/pr/gn/latest\"\n",
    "file=\"pr_3hr_ACCESS-ESM1-5_historical_r1i1p1f1_gn_201001010130-201412312230.nc\""
   ]
  },
  {
   "cell_type": "code",
   "execution_count": null,
   "id": "93322285",
   "metadata": {},
   "outputs": [],
   "source": [
    "ds=xr.open_dataset(f\"{path}/{file}\")\n",
    "ds[\"pr\"][0]"
   ]
  },
  {
   "cell_type": "code",
   "execution_count": null,
   "id": "b308d53b",
   "metadata": {},
   "outputs": [],
   "source": [
    "def get_interpolated(data, colourmap, blur=2.5):\n",
    "    lat = data['lat'].values\n",
    "    lon = data['lon'].values\n",
    "    newlon = np.linspace(lon[0], lon[-1], 2048)\n",
    "    newlat = np.linspace(lat[0], lat[-1], 1024)\n",
    "\n",
    "    interpolated = data.interp(lon=newlon, lat=newlat, method=\"linear\")\n",
    "    if blur > 0:\n",
    "        # interpolated_array=interpolated.to_dataarray()\n",
    "        smoothed = gaussian_filter(interpolated, sigma=blur)\n",
    "        #smoothed = median_filter(interpolated, size=blur)\n",
    "    else:\n",
    "        #No blur\n",
    "        smoothed = interpolated\n",
    "\n",
    "    #Convert to image, use raw interpolated data as opacity map for transparency\n",
    "    rgba = accessvis.array_to_rgba(smoothed, flip=True, colourmap=colourmap, opacitymap=True)\n",
    "    return rgba"
   ]
  },
  {
   "cell_type": "code",
   "execution_count": null,
   "id": "b02d538d",
   "metadata": {},
   "outputs": [],
   "source": [
    "ds_exa=ds.isel(time=2)[\"pr\"]\n",
    "colours = get_interpolated(ds_exa, 'turbo')\n",
    "plt.imshow(colours)"
   ]
  },
  {
   "cell_type": "markdown",
   "id": "c9e113df",
   "metadata": {},
   "source": [
    "### Video"
   ]
  },
  {
   "cell_type": "code",
   "execution_count": null,
   "id": "63ef9fba",
   "metadata": {},
   "outputs": [],
   "source": [
    "filename = 'el_test_pr_3hr.mp4'\n",
    "lv = accessvis.plot_earth(texture='bluemarble', background=\"white\", vertical_exaggeration=20)\n",
    "lv.rotation(15.0, -190.0, 0.0) #Rotate to Australia\n",
    "lv.set_properties(diffuse=0.8, ambient=0.1, specular=0.35, shininess=0.03, light=[1,1,0.98]) # make pretty\n",
    "lv.brightness_contrast_saturation(0.5, 0.5, 0.65)\n",
    "date = accessvis.TextWidget(lv=lv, text_colour = 'black', scale=0.05, offset=(1,0))\n",
    "with lv.video(filename=f'el_test_pr_3hr.mp4',fps=60, quality=3, resolution=(600,600)) as v:\n",
    "    for i in tqdm(range(len(ds[\"pr\"]))):\n",
    "        formatted_date = pd.to_datetime(ds[\"pr\"][i].time.data).strftime('%Y/%m/%d')\n",
    "        date.update_widget(text=f\"{formatted_date}\")\n",
    "        colours = get_interpolated(ds[\"pr\"][i], 'gist_ncar')\n",
    "        accessvis.update_earth_values(lv, dataMode=0, data=colours)\n",
    "        lv.render()"
   ]
  }
 ],
 "metadata": {
  "language_info": {
   "name": "python"
  }
 },
 "nbformat": 4,
 "nbformat_minor": 5
}
