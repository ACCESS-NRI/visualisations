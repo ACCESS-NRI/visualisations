{
 "cells": [
  {
   "cell_type": "markdown",
   "id": "cb06bcc5-3652-4eb8-86aa-61f65bb72185",
   "metadata": {},
   "source": [
    "# ENSO Project"
   ]
  },
  {
   "cell_type": "markdown",
   "id": "70b47f0e-9d59-495b-b1af-fbbfde55f16d",
   "metadata": {},
   "source": [
    "## Links\n",
    "\n",
    "https://access-nri.zulipchat.com/#narrow/channel/470323-med-team/topic/ENSO.20Visualisation\n",
    "\n",
    "## Project board\n",
    "\n",
    "https://github.com/orgs/ACCESS-NRI/projects/31/views/1"
   ]
  },
  {
   "cell_type": "markdown",
   "id": "86bad340-29b0-42b5-830f-752f884c2fad",
   "metadata": {},
   "source": [
    "Following up on our discussion about visualizing ENSO events, here’s a quick summary of what I’d like to achieve.\n",
    "\n",
    "Ultimately, I’d like to create an animation similar to the one produced by the European Space Agency:\n",
    "[ESA ENSO Animation](https://youtu.be/04NPZP9U-sc?si=KcvVRME0VWJ_4jUs)\n",
    "\n",
    "Other interesting examples:\n",
    "[Google Search - ENSO ESA](https://www.google.com/search?q=ENSO+ESA)\n",
    "\n",
    "Focus and Approach\n",
    "\n",
    "Most existing ENSO visualizations highlight South America, but I’d like ours to focus on Eastern Australia. To build this up progressively, we can start with:\n",
    "\n",
    "- Surface water temperature animation\n",
    "- Surface water temperature + currents (referencing Owen’s ongoing work on ocean circulation around Antarctica)\n",
    "- Adding deep water circulation\n",
    "- Wind patterns animation\n",
    "- Precipitation animation\n",
    "\n",
    "Additionally, it would be great to calculate the ENSO index, showing the intensity of El Niño/La Niña events.\n",
    "Data & Workflow\n",
    "\n",
    "We can use observational data or CMIP6 model outputs from ACCESS. Please develop the workflow in a Jupyter notebook.\n",
    "\n",
    "A good starting point would be @Owen Kaluza ’s new notebook—he’s working on something similar for Antarctica. I’d recommend reaching out to him ASAP to understand his approach and adapt it for ENSO in East Australia. His notebook will eventually be refined for a Webinar in June/July, so aligning our work with that could be beneficial. I suggest one of you does the cleaning so that we are ready for the webinar in June/July\n",
    "\n",
    "I leave you to organise the work between you two, keeping in mind that @Max Proft is working only 3 days a week.\n",
    "\n",
    "Key dates:\n",
    "\n",
    "- 21st of March (Webinar)\n",
    "- First week of May (EGU talk, I would like to have something to show by then)\n",
    "- Mid June (Webinar)\n",
    "- End of June (End of 2024-2025 ACCESS-Workplan) We need a couple of animations by then.\n",
    "- End of June (AMOS, Cairns) Couple of animations to show.\n",
    "\n",
    "Let me know if anything is unclear. I’ll set up weekly catch-ups on Fridays to track progress."
   ]
  },
  {
   "cell_type": "code",
   "execution_count": null,
   "id": "5b137226-489a-40f6-b00f-5a98d0cd99c8",
   "metadata": {},
   "outputs": [],
   "source": []
  }
 ],
 "metadata": {
  "kernelspec": {
   "display_name": "Python 3 (ipykernel)",
   "language": "python",
   "name": "python3"
  },
  "language_info": {
   "codemirror_mode": {
    "name": "ipython",
    "version": 3
   },
   "file_extension": ".py",
   "mimetype": "text/x-python",
   "name": "python",
   "nbconvert_exporter": "python",
   "pygments_lexer": "ipython3",
   "version": "3.12.7"
  }
 },
 "nbformat": 4,
 "nbformat_minor": 5
}
